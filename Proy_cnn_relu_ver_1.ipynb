{
 "cells": [
  {
   "cell_type": "code",
   "execution_count": 17,
   "metadata": {},
   "outputs": [],
   "source": [
    "import pandas as pd\n",
    "import numpy as np\n",
    "import seaborn as sns\n",
    "import matplotlib.pyplot as plt\n",
    "from keras.models import Sequential\n",
    "from keras.preprocessing.image import ImageDataGenerator\n",
    "from keras.layers import Dense, Activation, Conv2D, MaxPooling2D, Flatten, Dropout\n",
    "from keras import losses, optimizers, metrics, layers, models, activations\n",
    "from keras import backend as K\n",
    "from keras.preprocessing import image\n",
    "from keras_preprocessing.image import ImageDataGenerator\n",
    "import glob\n",
    "from pathlib import Path\n",
    "from sklearn.model_selection import train_test_split\n",
    "import tensorflow as tf\n",
    "import os\n",
    "from keras import applications"
   ]
  },
  {
   "cell_type": "code",
   "execution_count": 18,
   "metadata": {},
   "outputs": [],
   "source": [
    "path = \"C:\\\\Users\\\\USER\\\\Documents\\\\Inteligentes\\\\dataexport.xlsx\"\n",
    "data_ori = pd.read_excel(path)\n",
    "correl =data_ori.corr()\n"
   ]
  },
  {
   "cell_type": "code",
   "execution_count": 39,
   "metadata": {},
   "outputs": [
    {
     "name": "stdout",
     "output_type": "stream",
     "text": [
      "(1064, 5)\n",
      "(188, 5)\n"
     ]
    }
   ],
   "source": [
    "imgPath=\"C:\\\\Users\\\\USER\\\\Documents\\\\Inteligentes\\\\images_muestra\"\n",
    "fpaths = list(Path(imgPath).rglob('*.jpg'))\n",
    "fpaths_s = pd.Series(fpaths,name='fpaths')\n",
    "fpaths_s=fpaths_s.sort_values()\n",
    "fpaths_s.replace(\"\\t\",\" \", regex=True)\n",
    "fpaths_s=fpaths_s.apply(lambda x: str(x));\n",
    "for x in fpaths_s:\n",
    "    if type(x) is not str:\n",
    "        str(x)   \n",
    "        \n",
    "ds_selected=data_ori.filter(['frame','filter','brightness','image_quality'], axis=1)\n",
    "X_train, X_test, y_train, y_test = train_test_split(fpaths_s, ds_selected, test_size=0.15)\n",
    "data_train = pd.concat([X_train, y_train ], axis=1);\n",
    "data_test = pd.concat([X_test, y_test ], axis=1);\n",
    "\n",
    "data_test['fpaths']=data_test['fpaths'].astype('|S')\n",
    "print(data_train.shape)\n",
    "print(data_test.shape)\n",
    "data_train['fpaths']=data_train['fpaths'].apply(lambda x: str(x))\n",
    "\n",
    "def get_label(file_path):\n",
    "    parts=str(file_path,'utf-8')\n",
    "    #print(parts)\n",
    "    return parts\n",
    "\n",
    "data_test['fpaths']=data_test['fpaths'].apply(lambda x: get_label(x))"
   ]
  },
  {
   "cell_type": "code",
   "execution_count": 40,
   "metadata": {},
   "outputs": [],
   "source": [
    "model_cnn = applications.MobileNet(include_top=False, weights='imagenet' , input_shape=(256, 256, 3))"
   ]
  },
  {
   "cell_type": "code",
   "execution_count": 41,
   "metadata": {},
   "outputs": [],
   "source": [
    "batch_size=1\n",
    "\n",
    "train_datagen = ImageDataGenerator(\n",
    "        rotation_range=10,\n",
    "        width_shift_range=0.2,\n",
    "        height_shift_range=0.2,\n",
    "        shear_range=0.2,\n",
    "        zoom_range=0.2)\n",
    "test_datagen = ImageDataGenerator(zoom_range=0.2)\n",
    "\n"
   ]
  },
  {
   "cell_type": "code",
   "execution_count": 42,
   "metadata": {},
   "outputs": [
    {
     "name": "stdout",
     "output_type": "stream",
     "text": [
      "Found 1064 validated image filenames.\n"
     ]
    }
   ],
   "source": [
    "train_generator =train_datagen.flow_from_dataframe(\n",
    "    dataframe=data_train, \n",
    "    directory=imgPath,\n",
    "    x_col=\"fpaths\",\n",
    "    y_col=['frame','filter','brightness','image_quality'], \n",
    "    class_mode=\"other\",\n",
    "    batch_size=batch_size\n",
    ")"
   ]
  },
  {
   "cell_type": "code",
   "execution_count": 43,
   "metadata": {},
   "outputs": [
    {
     "name": "stdout",
     "output_type": "stream",
     "text": [
      "Found 188 validated image filenames.\n"
     ]
    }
   ],
   "source": [
    "test_generator =test_datagen.flow_from_dataframe(\n",
    "    dataframe=data_test, \n",
    "    directory=imgPath,\n",
    "    x_col=\"fpaths\",\n",
    "    y_col=['frame','filter','brightness','image_quality'], \n",
    "    class_mode=\"other\",\n",
    "    \n",
    ")"
   ]
  },
  {
   "cell_type": "code",
   "execution_count": 54,
   "metadata": {},
   "outputs": [],
   "source": [
    "bottleneck_features_train = model_cnn.predict_generator( train_generator)"
   ]
  },
  {
   "cell_type": "code",
   "execution_count": 55,
   "metadata": {},
   "outputs": [],
   "source": [
    "bottleneck_features_test = model_cnn.predict_generator(test_generator)"
   ]
  },
  {
   "cell_type": "code",
   "execution_count": 46,
   "metadata": {},
   "outputs": [
    {
     "data": {
      "text/plain": [
       "(188, 8, 8, 1024)"
      ]
     },
     "execution_count": 46,
     "metadata": {},
     "output_type": "execute_result"
    }
   ],
   "source": [
    "bottleneck_features_train.shape\n",
    "bottleneck_features_test.shape"
   ]
  },
  {
   "cell_type": "code",
   "execution_count": 47,
   "metadata": {},
   "outputs": [],
   "source": [
    "np.save('bottleneck_features_train.npy',\n",
    "        bottleneck_features_train)\n",
    "np.save('bottleneck_features_test.npy',\n",
    "        bottleneck_features_test)"
   ]
  },
  {
   "cell_type": "code",
   "execution_count": 48,
   "metadata": {},
   "outputs": [
    {
     "name": "stdout",
     "output_type": "stream",
     "text": [
      "(1064, 8, 8, 1024)\n",
      "(188, 8, 8, 1024)\n"
     ]
    }
   ],
   "source": [
    "train_data = np.load('bottleneck_features_train.npy')\n",
    "validation_data = np.load('bottleneck_features_test.npy')\n",
    "print(bottleneck_features_train.shape)\n",
    "print(bottleneck_features_test.shape)"
   ]
  },
  {
   "cell_type": "code",
   "execution_count": 49,
   "metadata": {},
   "outputs": [],
   "source": [
    "train_labels = data_train.copy()\n",
    "validation_labels = data_test.copy()\n"
   ]
  },
  {
   "cell_type": "code",
   "execution_count": 75,
   "metadata": {},
   "outputs": [
    {
     "name": "stdout",
     "output_type": "stream",
     "text": [
      "Model: \"sequential_16\"\n",
      "_________________________________________________________________\n",
      "Layer (type)                 Output Shape              Param #   \n",
      "=================================================================\n",
      "flatten_16 (Flatten)         (None, 65536)             0         \n",
      "_________________________________________________________________\n",
      "dense_181 (Dense)            (None, 256)               16777472  \n",
      "_________________________________________________________________\n",
      "dense_182 (Dense)            (None, 256)               65792     \n",
      "_________________________________________________________________\n",
      "dropout_53 (Dropout)         (None, 256)               0         \n",
      "_________________________________________________________________\n",
      "dense_183 (Dense)            (None, 128)               32896     \n",
      "_________________________________________________________________\n",
      "dense_184 (Dense)            (None, 128)               16512     \n",
      "_________________________________________________________________\n",
      "dropout_54 (Dropout)         (None, 128)               0         \n",
      "_________________________________________________________________\n",
      "dense_185 (Dense)            (None, 64)                8256      \n",
      "_________________________________________________________________\n",
      "dense_186 (Dense)            (None, 64)                4160      \n",
      "_________________________________________________________________\n",
      "dense_187 (Dense)            (None, 32)                2080      \n",
      "_________________________________________________________________\n",
      "dense_188 (Dense)            (None, 32)                1056      \n",
      "_________________________________________________________________\n",
      "dropout_55 (Dropout)         (None, 32)                0         \n",
      "_________________________________________________________________\n",
      "dense_189 (Dense)            (None, 16)                528       \n",
      "_________________________________________________________________\n",
      "dense_190 (Dense)            (None, 16)                272       \n",
      "_________________________________________________________________\n",
      "dense_191 (Dense)            (None, 8)                 136       \n",
      "_________________________________________________________________\n",
      "dropout_56 (Dropout)         (None, 8)                 0         \n",
      "_________________________________________________________________\n",
      "dense_192 (Dense)            (None, 4)                 36        \n",
      "=================================================================\n",
      "Total params: 16,909,196\n",
      "Trainable params: 16,909,196\n",
      "Non-trainable params: 0\n",
      "_________________________________________________________________\n"
     ]
    }
   ],
   "source": [
    "model_relu = Sequential()\n",
    "model_relu.add(Flatten(input_shape=train_data.shape[1:]))\n",
    "model_relu.add(Dense(256, activation='relu'))\n",
    "model_relu.add(Dense(256, activation='relu'))\n",
    "model_relu.add(Dropout(0.1))\n",
    "model_relu.add(Dense(128, activation='relu'))\n",
    "model_relu.add(Dense(128, activation='relu'))\n",
    "model_relu.add(Dropout(0.2))\n",
    "model_relu.add(Dense(64, activation='relu'))\n",
    "model_relu.add(Dense(64, activation='relu'))\n",
    "model_relu.add(Dense(32, activation='relu'))\n",
    "model_relu.add(Dense(32, activation='relu'))\n",
    "model_relu.add(Dropout(0.2))\n",
    "model_relu.add(Dense(16, activation='relu'))\n",
    "model_relu.add(Dense(16, activation='relu'))\n",
    "model_relu.add(Dense(8, activation='relu'))\n",
    "model_relu.add(Dropout(0.2))\n",
    "model_relu.add(Dense(4, activation='sigmoid'))\n",
    "model_relu.summary()"
   ]
  },
  {
   "cell_type": "code",
   "execution_count": 51,
   "metadata": {},
   "outputs": [],
   "source": [
    "train_labels=train_labels.drop('fpaths',axis=1)\n",
    "validation_labels=validation_labels.drop('fpaths',axis=1)\n"
   ]
  },
  {
   "cell_type": "code",
   "execution_count": 74,
   "metadata": {},
   "outputs": [
    {
     "name": "stdout",
     "output_type": "stream",
     "text": [
      "Train on 1064 samples, validate on 188 samples\n",
      "Epoch 1/4\n",
      "1064/1064 [==============================] - 346s 325ms/step - loss: 0.7051 - accuracy: 0.5186 - val_loss: 0.6688 - val_accuracy: 0.5944\n",
      "Epoch 2/4\n",
      "1064/1064 [==============================] - 349s 328ms/step - loss: 0.6529 - accuracy: 0.5670 - val_loss: 0.6147 - val_accuracy: 0.5824\n",
      "Epoch 3/4\n",
      "1064/1064 [==============================] - 348s 327ms/step - loss: 0.6022 - accuracy: 0.5860 - val_loss: 0.5716 - val_accuracy: 0.6157\n",
      "Epoch 4/4\n",
      "1064/1064 [==============================] - 347s 326ms/step - loss: 0.5244 - accuracy: 0.5881 - val_loss: 0.4780 - val_accuracy: 0.6157\n"
     ]
    },
    {
     "data": {
      "text/plain": [
       "<keras.callbacks.callbacks.History at 0x15220c4af28>"
      ]
     },
     "execution_count": 74,
     "metadata": {},
     "output_type": "execute_result"
    }
   ],
   "source": [
    "optimizer = optimizers.RMSprop(learning_rate=0.0001, rho=0.9)\n",
    "model_relu.compile(optimizer=optimizer,\n",
    "              loss='binary_crossentropy', metrics=['accuracy'])\n",
    "\n",
    "model_relu.fit(train_data, train_labels,\n",
    "          epochs=4,\n",
    "          batch_size=batch_size,\n",
    "          validation_data=(validation_data, validation_labels))"
   ]
  },
  {
   "cell_type": "code",
   "execution_count": null,
   "metadata": {},
   "outputs": [],
   "source": [
    "for x_batch, y_batch in test_generator:\n",
    "    print(y_batch)\n",
    "    print(model_relu.predict_proba(model_cnn.predict(x_batch)))\n"
   ]
  },
  {
   "cell_type": "code",
   "execution_count": null,
   "metadata": {},
   "outputs": [],
   "source": []
  }
 ],
 "metadata": {
  "kernelspec": {
   "display_name": "Python 3",
   "language": "python",
   "name": "python3"
  }
 },
 "nbformat": 4,
 "nbformat_minor": 2
}
